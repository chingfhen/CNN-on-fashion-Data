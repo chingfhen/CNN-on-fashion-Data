{
 "cells": [
  {
   "cell_type": "code",
   "execution_count": 1,
   "metadata": {},
   "outputs": [],
   "source": [
    "import tensorflow as tf\n",
    "from tensorflow import keras\n",
    "import pandas as pd\n",
    "import matplotlib.pyplot as plt \n",
    "from sklearn.model_selection import train_test_split\n",
    "import pydot, graphviz \n",
    "import numpy as np\n",
    "import pandas as pd"
   ]
  },
  {
   "cell_type": "markdown",
   "metadata": {},
   "source": [
    "# Import datasets + simple exploration"
   ]
  },
  {
   "cell_type": "code",
   "execution_count": 2,
   "metadata": {},
   "outputs": [],
   "source": [
    "# import inbuild fashion data from keras\n",
    "fashion_mnist = keras.datasets.fashion_mnist\n",
    "(X_train_full,y_train_full),(X_test,y_test)=fashion_mnist.load_data()"
   ]
  },
  {
   "cell_type": "code",
   "execution_count": 18,
   "metadata": {},
   "outputs": [],
   "source": [
    "# actual label names\n",
    "label_names= {0:'T-shirt/top',\n",
    "            1:'Trouser',\n",
    "            2:'Pullover',\n",
    "            3:'Dress',\n",
    "            4:'Coat',\n",
    "            5:'Sandal',\n",
    "            6:'Shirt',\n",
    "            7:'Sneaker',\n",
    "            8:'Bag',\n",
    "            9:'Ankle boot'}"
   ]
  },
  {
   "cell_type": "code",
   "execution_count": 4,
   "metadata": {},
   "outputs": [
    {
     "data": {
      "text/plain": [
       "dtype('uint8')"
      ]
     },
     "execution_count": 4,
     "metadata": {},
     "output_type": "execute_result"
    }
   ],
   "source": [
    "X_train_full.dtype"
   ]
  },
  {
   "cell_type": "code",
   "execution_count": 19,
   "metadata": {
    "scrolled": true
   },
   "outputs": [
    {
     "data": {
      "text/plain": [
       "(<matplotlib.image.AxesImage at 0x2b5f1ef9648>,)"
      ]
     },
     "execution_count": 19,
     "metadata": {},
     "output_type": "execute_result"
    },
    {
     "data": {
      "image/png": "[encoded data removed]",
      "text/plain": [
       "<Figure size 432x288 with 1 Axes>"
      ]
     },
     "metadata": {
      "needs_background": "light"
     },
     "output_type": "display_data"
    }
   ],
   "source": [
    "# show first image    \n",
    "plt.imshow(X_train_full[0])"
   ]
  },
  {
   "cell_type": "code",
   "execution_count": 20,
   "metadata": {},
   "outputs": [
    {
     "data": {
      "text/plain": [
       "'Ankle boot'"
      ]
     },
     "execution_count": 20,
     "metadata": {},
     "output_type": "execute_result"
    }
   ],
   "source": [
    "# label of the above image\n",
    "label_names[y_train_full[0]]"
   ]
  },
  {
   "cell_type": "code",
   "execution_count": 21,
   "metadata": {},
   "outputs": [
    {
     "name": "stdout",
     "output_type": "stream",
     "text": [
      "Training set dimensions:  (60000, 28, 28) (60000,)\n",
      "Test set dimensions:  (10000, 28, 28) (10000,)\n"
     ]
    }
   ],
   "source": [
    "# there are 60000 images to train  and 10000 images to test\n",
    "print('Training set dimensions: ',X_train_full.shape,y_train_full.shape)\n",
    "print('Test set dimensions: ',X_test.shape,y_test.shape)"
   ]
  },
  {
   "cell_type": "code",
   "execution_count": 22,
   "metadata": {
    "scrolled": true
   },
   "outputs": [
    {
     "data": {
      "text/plain": [
       "array([[  0,   0,   0,   0,   0,   0,   0,   0,   0,   0,   0,   0,   0,\n",
       "          0,   0,   0,   0,   0,   0,   0,   0,   0,   0,   0,   0,   0,\n",
       "          0,   0],\n",
       "       [  0,   0,   0,   0,   0,   0,   0,   0,   0,   0,   0,   0,   0,\n",
       "          0,   0,   0,   0,   0,   0,   0,   0,   0,   0,   0,   0,   0,\n",
       "          0,   0],\n",
       "       [  0,   0,   0,   0,   0,   0,   0,   0,   0,   0,   0,   0,   0,\n",
       "          0,   0,   0,   0,   0,   0,   0,   0,   0,   0,   0,   0,   0,\n",
       "          0,   0],\n",
       "       [  0,   0,   0,   0,   0,   0,   0,   0,   0,   0,   0,   0,   1,\n",
       "          0,   0,  13,  73,   0,   0,   1,   4,   0,   0,   0,   0,   1,\n",
       "          1,   0],\n",
       "       [  0,   0,   0,   0,   0,   0,   0,   0,   0,   0,   0,   0,   3,\n",
       "          0,  36, 136, 127,  62,  54,   0,   0,   0,   1,   3,   4,   0,\n",
       "          0,   3],\n",
       "       [  0,   0,   0,   0,   0,   0,   0,   0,   0,   0,   0,   0,   6,\n",
       "          0, 102, 204, 176, 134, 144, 123,  23,   0,   0,   0,   0,  12,\n",
       "         10,   0],\n",
       "       [  0,   0,   0,   0,   0,   0,   0,   0,   0,   0,   0,   0,   0,\n",
       "          0, 155, 236, 207, 178, 107, 156, 161, 109,  64,  23,  77, 130,\n",
       "         72,  15],\n",
       "       [  0,   0,   0,   0,   0,   0,   0,   0,   0,   0,   0,   1,   0,\n",
       "         69, 207, 223, 218, 216, 216, 163, 127, 121, 122, 146, 141,  88,\n",
       "        172,  66],\n",
       "       [  0,   0,   0,   0,   0,   0,   0,   0,   0,   1,   1,   1,   0,\n",
       "        200, 232, 232, 233, 229, 223, 223, 215, 213, 164, 127, 123, 196,\n",
       "        229,   0],\n",
       "       [  0,   0,   0,   0,   0,   0,   0,   0,   0,   0,   0,   0,   0,\n",
       "        183, 225, 216, 223, 228, 235, 227, 224, 222, 224, 221, 223, 245,\n",
       "        173,   0],\n",
       "       [  0,   0,   0,   0,   0,   0,   0,   0,   0,   0,   0,   0,   0,\n",
       "        193, 228, 218, 213, 198, 180, 212, 210, 211, 213, 223, 220, 243,\n",
       "        202,   0],\n",
       "       [  0,   0,   0,   0,   0,   0,   0,   0,   0,   1,   3,   0,  12,\n",
       "        219, 220, 212, 218, 192, 169, 227, 208, 218, 224, 212, 226, 197,\n",
       "        209,  52],\n",
       "       [  0,   0,   0,   0,   0,   0,   0,   0,   0,   0,   6,   0,  99,\n",
       "        244, 222, 220, 218, 203, 198, 221, 215, 213, 222, 220, 245, 119,\n",
       "        167,  56],\n",
       "       [  0,   0,   0,   0,   0,   0,   0,   0,   0,   4,   0,   0,  55,\n",
       "        236, 228, 230, 228, 240, 232, 213, 218, 223, 234, 217, 217, 209,\n",
       "         92,   0],\n",
       "       [  0,   0,   1,   4,   6,   7,   2,   0,   0,   0,   0,   0, 237,\n",
       "        226, 217, 223, 222, 219, 222, 221, 216, 223, 229, 215, 218, 255,\n",
       "         77,   0],\n",
       "       [  0,   3,   0,   0,   0,   0,   0,   0,   0,  62, 145, 204, 228,\n",
       "        207, 213, 221, 218, 208, 211, 218, 224, 223, 219, 215, 224, 244,\n",
       "        159,   0],\n",
       "       [  0,   0,   0,   0,  18,  44,  82, 107, 189, 228, 220, 222, 217,\n",
       "        226, 200, 205, 211, 230, 224, 234, 176, 188, 250, 248, 233, 238,\n",
       "        215,   0],\n",
       "       [  0,  57, 187, 208, 224, 221, 224, 208, 204, 214, 208, 209, 200,\n",
       "        159, 245, 193, 206, 223, 255, 255, 221, 234, 221, 211, 220, 232,\n",
       "        246,   0],\n",
       "       [  3, 202, 228, 224, 221, 211, 211, 214, 205, 205, 205, 220, 240,\n",
       "         80, 150, 255, 229, 221, 188, 154, 191, 210, 204, 209, 222, 228,\n",
       "        225,   0],\n",
       "       [ 98, 233, 198, 210, 222, 229, 229, 234, 249, 220, 194, 215, 217,\n",
       "        241,  65,  73, 106, 117, 168, 219, 221, 215, 217, 223, 223, 224,\n",
       "        229,  29],\n",
       "       [ 75, 204, 212, 204, 193, 205, 211, 225, 216, 185, 197, 206, 198,\n",
       "        213, 240, 195, 227, 245, 239, 223, 218, 212, 209, 222, 220, 221,\n",
       "        230,  67],\n",
       "       [ 48, 203, 183, 194, 213, 197, 185, 190, 194, 192, 202, 214, 219,\n",
       "        221, 220, 236, 225, 216, 199, 206, 186, 181, 177, 172, 181, 205,\n",
       "        206, 115],\n",
       "       [  0, 122, 219, 193, 179, 171, 183, 196, 204, 210, 213, 207, 211,\n",
       "        210, 200, 196, 194, 191, 195, 191, 198, 192, 176, 156, 167, 177,\n",
       "        210,  92],\n",
       "       [  0,   0,  74, 189, 212, 191, 175, 172, 175, 181, 185, 188, 189,\n",
       "        188, 193, 198, 204, 209, 210, 210, 211, 188, 188, 194, 192, 216,\n",
       "        170,   0],\n",
       "       [  2,   0,   0,   0,  66, 200, 222, 237, 239, 242, 246, 243, 244,\n",
       "        221, 220, 193, 191, 179, 182, 182, 181, 176, 166, 168,  99,  58,\n",
       "          0,   0],\n",
       "       [  0,   0,   0,   0,   0,   0,   0,  40,  61,  44,  72,  41,  35,\n",
       "          0,   0,   0,   0,   0,   0,   0,   0,   0,   0,   0,   0,   0,\n",
       "          0,   0],\n",
       "       [  0,   0,   0,   0,   0,   0,   0,   0,   0,   0,   0,   0,   0,\n",
       "          0,   0,   0,   0,   0,   0,   0,   0,   0,   0,   0,   0,   0,\n",
       "          0,   0],\n",
       "       [  0,   0,   0,   0,   0,   0,   0,   0,   0,   0,   0,   0,   0,\n",
       "          0,   0,   0,   0,   0,   0,   0,   0,   0,   0,   0,   0,   0,\n",
       "          0,   0]], dtype=uint8)"
      ]
     },
     "execution_count": 22,
     "metadata": {},
     "output_type": "execute_result"
    }
   ],
   "source": [
    "# each image has a 28x28 pixel dimension\n",
    "# each pixel takes a value between 0 and 255\n",
    "X_train_full[0]"
   ]
  },
  {
   "cell_type": "markdown",
   "metadata": {},
   "source": [
    "# Data Reshaping\n",
    "- CNN requires data to be 3 dimensional, so this step reshapes dimension to 3"
   ]
  },
  {
   "cell_type": "code",
   "execution_count": 23,
   "metadata": {},
   "outputs": [],
   "source": [
    "# that final '1' is the third dimension\n",
    "X_train_full= X_train_full.reshape((60000,28,28,1))\n",
    "X_test= X_test.reshape((10000,28,28,1))"
   ]
  },
  {
   "cell_type": "markdown",
   "metadata": {},
   "source": [
    "# Data normalisation\n",
    "- ensure data is of the same scale\n",
    "- different from usual ML normalisations "
   ]
  },
  {
   "cell_type": "code",
   "execution_count": 24,
   "metadata": {},
   "outputs": [],
   "source": [
    "# the 255. ensures that output is all float\n",
    "X_train_n=X_train_full/255.\n",
    "X_test=X_test/255."
   ]
  },
  {
   "cell_type": "markdown",
   "metadata": {},
   "source": [
    "# split into training and validation sets\n",
    "- validation set is used for parameter tuning and model evaluation\n",
    "- test set is used for final evaluation of performance"
   ]
  },
  {
   "cell_type": "code",
   "execution_count": 25,
   "metadata": {},
   "outputs": [],
   "source": [
    "# split using train_test_split function\n",
    "X_train, X_valid, y_train, y_valid = train_test_split(X_train_n, y_train_full, test_size=(5000/60000), random_state=42)"
   ]
  },
  {
   "cell_type": "code",
   "execution_count": 26,
   "metadata": {
    "scrolled": true
   },
   "outputs": [
    {
     "name": "stdout",
     "output_type": "stream",
     "text": [
      "Training set Dimensions: \n",
      "\tX: (55000, 28, 28, 1)\n",
      "\ty: (55000,)\n",
      "Validation set Dimensions: \n",
      "\tX: (5000, 28, 28, 1)\n",
      "\ty: (5000,)\n",
      "Test set Dimensions: \n",
      "\tX: (10000, 28, 28, 1)\n",
      "\ty: (10000,)\n"
     ]
    }
   ],
   "source": [
    "# check dimensions\n",
    "print('Training set Dimensions: \\n\\tX: {}\\n\\ty: {}'.format(X_train.shape,y_train.shape))\n",
    "print('Validation set Dimensions: \\n\\tX: {}\\n\\ty: {}'.format(X_valid.shape,y_valid.shape))\n",
    "print('Test set Dimensions: \\n\\tX: {}'.format(X_test.shape))"
   ]
  },
  {
   "cell_type": "markdown",
   "metadata": {},
   "source": [
    "# Build Convolutional Neural Network\n",
    "1. 3x3 filters  are applied to give feature maps in the convolutional layer\n",
    "    - these filters are trained to highlight on certain features\n",
    "    - valid padding is applied, which ignores the inpur borders\n",
    "2. Max pooling applied\n",
    "    - max value in each grid is taken\n",
    "    - this emphasizes on important features and reduces computational load too\n",
    "3. input flattened to single array as input for ANN\n",
    "4. Hidden layers\n",
    "5. Outputlayers"
   ]
  },
  {
   "cell_type": "code",
   "execution_count": 27,
   "metadata": {},
   "outputs": [],
   "source": [
    "# make the results consistent by setting seed\n",
    "np.random.seed(1)\n",
    "tf.random.set_seed(1)"
   ]
  },
  {
   "attachments": {
    "architecture.png": {
     "image/png": "[encoded data removed]"
    }
   },
   "cell_type": "markdown",
   "metadata": {},
   "source": [
    "![architecture.png](attachment:architecture.png)"
   ]
  },
  {
   "cell_type": "code",
   "execution_count": 28,
   "metadata": {},
   "outputs": [],
   "source": [
    "# create NN object using sequential API\n",
    "model=keras.models.Sequential()\n",
    "\n",
    "# add convolutional layer\n",
    "model.add(keras.layers.Conv2D(filters=32,\n",
    "                              # i.e. filter size\n",
    "                             kernel_size=(3,3),\n",
    "                              # i.e. number of steps each filter takes\n",
    "                             strides=1,\n",
    "                              # this padding ignores input borders\n",
    "                              padding='valid',\n",
    "                              activation='relu',\n",
    "                              # FOR COLORED IMAGES ,28x28x3 instead\n",
    "                              input_shape=(28,28,1)))\n",
    "\n",
    "# max pooling taking max value from 2x2 grid\n",
    "model.add(keras.layers.MaxPooling2D((2,2)))\n",
    "\n",
    "# flatten into a single array\n",
    "model.add(keras.layers.Flatten())\n",
    "\n",
    "# add a hidden layer of 300 neurons with relu activation\n",
    "model.add(keras.layers.Dense(300,activation='relu'))\n",
    "# add a hidden layer of 100 neurons with relu activation\n",
    "model.add(keras.layers.Dense(100,activation='relu'))\n",
    "\n",
    "# add output layer of 10 neurons(there are 10 classes) with softmax activation \n",
    "model.add(keras.layers.Dense(10,activation='softmax'))\n"
   ]
  },
  {
   "cell_type": "code",
   "execution_count": 29,
   "metadata": {
    "scrolled": true
   },
   "outputs": [
    {
     "name": "stdout",
     "output_type": "stream",
     "text": [
      "Model: \"sequential_1\"\n",
      "_________________________________________________________________\n",
      "Layer (type)                 Output Shape              Param #   \n",
      "=================================================================\n",
      "conv2d_1 (Conv2D)            (None, 26, 26, 32)        320       \n",
      "_________________________________________________________________\n",
      "max_pooling2d_1 (MaxPooling2 (None, 13, 13, 32)        0         \n",
      "_________________________________________________________________\n",
      "flatten_1 (Flatten)          (None, 5408)              0         \n",
      "_________________________________________________________________\n",
      "dense_3 (Dense)              (None, 300)               1622700   \n",
      "_________________________________________________________________\n",
      "dense_4 (Dense)              (None, 100)               30100     \n",
      "_________________________________________________________________\n",
      "dense_5 (Dense)              (None, 10)                1010      \n",
      "=================================================================\n",
      "Total params: 1,654,130\n",
      "Trainable params: 1,654,130\n",
      "Non-trainable params: 0\n",
      "_________________________________________________________________\n"
     ]
    }
   ],
   "source": [
    "model.summary()"
   ]
  },
  {
   "cell_type": "markdown",
   "metadata": {},
   "source": [
    "- Param: \n",
    "    - refers to the number of parameters the model needs to tune\n",
    "    "
   ]
  },
  {
   "cell_type": "code",
   "execution_count": 31,
   "metadata": {},
   "outputs": [],
   "source": [
    "# setting parameters that are problem specific\n",
    "model.compile(loss='sparse_categorical_crossentropy',\n",
    "              # sgd refers to stochastic gradient descent\n",
    "             optimizer='sgd',\n",
    "             metrics=['accuracy'])"
   ]
  },
  {
   "cell_type": "code",
   "execution_count": 41,
   "metadata": {},
   "outputs": [],
   "source": [
    "# load saved model\n",
    "model = keras.models.load_model('CNNmodel.h5')"
   ]
  },
  {
   "cell_type": "code",
   "execution_count": 42,
   "metadata": {
    "scrolled": true
   },
   "outputs": [
    {
     "name": "stdout",
     "output_type": "stream",
     "text": [
      "Train on 55000 samples, validate on 5000 samples\n",
      "Epoch 1/30\n",
      "55000/55000 [==============================] - 30s 551us/sample - loss: 0.1335 - accuracy: 0.9528 - val_loss: 0.2452 - val_accuracy: 0.9126\n",
      "Epoch 2/30\n",
      "55000/55000 [==============================] - 44s 808us/sample - loss: 0.1274 - accuracy: 0.9545 - val_loss: 0.2488 - val_accuracy: 0.9128\n",
      "Epoch 3/30\n",
      "55000/55000 [==============================] - 42s 772us/sample - loss: 0.1232 - accuracy: 0.9559 - val_loss: 0.2314 - val_accuracy: 0.9176\n",
      "Epoch 4/30\n",
      "55000/55000 [==============================] - 43s 774us/sample - loss: 0.1178 - accuracy: 0.9579 - val_loss: 0.2513 - val_accuracy: 0.9088\n",
      "Epoch 5/30\n",
      "55000/55000 [==============================] - 44s 801us/sample - loss: 0.1124 - accuracy: 0.9610 - val_loss: 0.2370 - val_accuracy: 0.9156\n",
      "Epoch 6/30\n",
      "55000/55000 [==============================] - 43s 782us/sample - loss: 0.1072 - accuracy: 0.9620 - val_loss: 0.2353 - val_accuracy: 0.9176\n",
      "Epoch 7/30\n",
      "55000/55000 [==============================] - 41s 753us/sample - loss: 0.1032 - accuracy: 0.9637 - val_loss: 0.2368 - val_accuracy: 0.9164\n",
      "Epoch 8/30\n",
      "55000/55000 [==============================] - 45s 819us/sample - loss: 0.0977 - accuracy: 0.9656 - val_loss: 0.2403 - val_accuracy: 0.9178\n",
      "Epoch 9/30\n",
      "55000/55000 [==============================] - 44s 793us/sample - loss: 0.0925 - accuracy: 0.9675 - val_loss: 0.2697 - val_accuracy: 0.9084\n",
      "Epoch 10/30\n",
      "55000/55000 [==============================] - 47s 850us/sample - loss: 0.0888 - accuracy: 0.9693 - val_loss: 0.2467 - val_accuracy: 0.9144\n",
      "Epoch 11/30\n",
      "55000/55000 [==============================] - 44s 806us/sample - loss: 0.0833 - accuracy: 0.9713 - val_loss: 0.2355 - val_accuracy: 0.9172\n",
      "Epoch 12/30\n",
      "55000/55000 [==============================] - 44s 798us/sample - loss: 0.0793 - accuracy: 0.9732 - val_loss: 0.2472 - val_accuracy: 0.9172\n",
      "Epoch 13/30\n",
      "55000/55000 [==============================] - 41s 742us/sample - loss: 0.0757 - accuracy: 0.9742 - val_loss: 0.2516 - val_accuracy: 0.9164\n",
      "Epoch 14/30\n",
      "55000/55000 [==============================] - 45s 819us/sample - loss: 0.0727 - accuracy: 0.9749 - val_loss: 0.2438 - val_accuracy: 0.9174\n",
      "Epoch 15/30\n",
      "55000/55000 [==============================] - 41s 749us/sample - loss: 0.0676 - accuracy: 0.9772 - val_loss: 0.2471 - val_accuracy: 0.9180\n",
      "Epoch 16/30\n",
      "55000/55000 [==============================] - 53s 971us/sample - loss: 0.0651 - accuracy: 0.9783 - val_loss: 0.2432 - val_accuracy: 0.9234\n",
      "Epoch 17/30\n",
      "55000/55000 [==============================] - 44s 798us/sample - loss: 0.0601 - accuracy: 0.9799 - val_loss: 0.2716 - val_accuracy: 0.9150\n",
      "Epoch 18/30\n",
      "55000/55000 [==============================] - 39s 713us/sample - loss: 0.0572 - accuracy: 0.9807 - val_loss: 0.2744 - val_accuracy: 0.9148\n",
      "Epoch 19/30\n",
      "55000/55000 [==============================] - 46s 836us/sample - loss: 0.0536 - accuracy: 0.9826 - val_loss: 0.2637 - val_accuracy: 0.9204\n",
      "Epoch 20/30\n",
      "55000/55000 [==============================] - 40s 730us/sample - loss: 0.0508 - accuracy: 0.9837 - val_loss: 0.2901 - val_accuracy: 0.9150\n",
      "Epoch 21/30\n",
      "55000/55000 [==============================] - 41s 754us/sample - loss: 0.0466 - accuracy: 0.9848 - val_loss: 0.2585 - val_accuracy: 0.9210\n",
      "Epoch 22/30\n",
      "55000/55000 [==============================] - 43s 788us/sample - loss: 0.0448 - accuracy: 0.9861 - val_loss: 0.2916 - val_accuracy: 0.9128\n",
      "Epoch 23/30\n",
      "55000/55000 [==============================] - 39s 711us/sample - loss: 0.0434 - accuracy: 0.9865 - val_loss: 0.2848 - val_accuracy: 0.9176\n",
      "Epoch 24/30\n",
      "55000/55000 [==============================] - 42s 770us/sample - loss: 0.0389 - accuracy: 0.9882 - val_loss: 0.2852 - val_accuracy: 0.9200\n",
      "Epoch 25/30\n",
      "55000/55000 [==============================] - 40s 731us/sample - loss: 0.0370 - accuracy: 0.9890 - val_loss: 0.3022 - val_accuracy: 0.9116\n",
      "Epoch 26/30\n",
      "55000/55000 [==============================] - 42s 755us/sample - loss: 0.0342 - accuracy: 0.9896 - val_loss: 0.3192 - val_accuracy: 0.9140\n",
      "Epoch 27/30\n",
      "55000/55000 [==============================] - 40s 727us/sample - loss: 0.0326 - accuracy: 0.9905 - val_loss: 0.2916 - val_accuracy: 0.9172\n",
      "Epoch 28/30\n",
      "55000/55000 [==============================] - 39s 717us/sample - loss: 0.0296 - accuracy: 0.9912 - val_loss: 0.3064 - val_accuracy: 0.9168\n",
      "Epoch 29/30\n",
      "55000/55000 [==============================] - 43s 778us/sample - loss: 0.0282 - accuracy: 0.9917 - val_loss: 0.2941 - val_accuracy: 0.9192\n",
      "Epoch 30/30\n",
      "55000/55000 [==============================] - 43s 782us/sample - loss: 0.0267 - accuracy: 0.9924 - val_loss: 0.3306 - val_accuracy: 0.9096\n"
     ]
    }
   ],
   "source": [
    "# using .fit method consecutively actually continues training the model where it was left off\n",
    "model_history = model.fit(X_train,y_train,\n",
    "                          validation_data=(X_valid,y_valid),\n",
    "                          epochs=30)"
   ]
  },
  {
   "cell_type": "code",
   "execution_count": 33,
   "metadata": {},
   "outputs": [
    {
     "data": {
      "text/plain": [
       "{'batch_size': 32,\n",
       " 'epochs': 30,\n",
       " 'steps': 1719,\n",
       " 'samples': 55000,\n",
       " 'verbose': 0,\n",
       " 'do_validation': True,\n",
       " 'metrics': ['loss', 'accuracy', 'val_loss', 'val_accuracy']}"
      ]
     },
     "execution_count": 33,
     "metadata": {},
     "output_type": "execute_result"
    }
   ],
   "source": [
    "# show model parameters\n",
    "model_history.params"
   ]
  },
  {
   "cell_type": "code",
   "execution_count": 34,
   "metadata": {
    "scrolled": true
   },
   "outputs": [
    {
     "data": {
      "text/plain": [
       "{'loss': [0.7232647918701172,\n",
       "  0.4789659946875139,\n",
       "  0.4240220858747309,\n",
       "  0.38848866054795006,\n",
       "  0.36352404016581447,\n",
       "  0.3416003832513636,\n",
       "  0.3246729166767814,\n",
       "  0.30834569490606134,\n",
       "  0.2958024963920767,\n",
       "  0.2845826054659757,\n",
       "  0.2724606364792044,\n",
       "  0.26324330543821506,\n",
       "  0.2536492290626873,\n",
       "  0.24500095049684698,\n",
       "  0.23684471851587297,\n",
       "  0.22951359150409698,\n",
       "  0.22168787875717336,\n",
       "  0.2143544225161726,\n",
       "  0.2067171369996938,\n",
       "  0.20066493109573016,\n",
       "  0.19270263248140163,\n",
       "  0.18695772215669806,\n",
       "  0.18099661400209774,\n",
       "  0.17436552574851297,\n",
       "  0.1684124231062152,\n",
       "  0.1619700433254242,\n",
       "  0.1569283708691597,\n",
       "  0.15059462025653234,\n",
       "  0.14511815802075645,\n",
       "  0.1394659092632207],\n",
       " 'accuracy': [0.74454546,\n",
       "  0.82796365,\n",
       "  0.8478182,\n",
       "  0.8587273,\n",
       "  0.8691091,\n",
       "  0.8766909,\n",
       "  0.88205457,\n",
       "  0.8868545,\n",
       "  0.8913636,\n",
       "  0.89494544,\n",
       "  0.9003636,\n",
       "  0.9024,\n",
       "  0.9070182,\n",
       "  0.91107273,\n",
       "  0.91316366,\n",
       "  0.9152,\n",
       "  0.9185454,\n",
       "  0.9208364,\n",
       "  0.9242,\n",
       "  0.9256,\n",
       "  0.9288909,\n",
       "  0.932,\n",
       "  0.9329636,\n",
       "  0.93654543,\n",
       "  0.9380909,\n",
       "  0.94078183,\n",
       "  0.9426182,\n",
       "  0.9454182,\n",
       "  0.94692725,\n",
       "  0.94969094],\n",
       " 'val_loss': [0.5455632187843322,\n",
       "  0.45730349717140195,\n",
       "  0.40575443677902223,\n",
       "  0.3687718546628952,\n",
       "  0.3606598273277283,\n",
       "  0.33436035461425784,\n",
       "  0.33227868597507476,\n",
       "  0.31806961827278135,\n",
       "  0.3088217738866806,\n",
       "  0.2989610981464386,\n",
       "  0.2877651885032654,\n",
       "  0.2854791208982468,\n",
       "  0.2768603259563446,\n",
       "  0.2718878234863281,\n",
       "  0.2656037741661072,\n",
       "  0.25661455039978026,\n",
       "  0.26534976640343666,\n",
       "  0.3006204414367676,\n",
       "  0.2709596427679062,\n",
       "  0.27853838042020795,\n",
       "  0.2388908411681652,\n",
       "  0.2707406219422817,\n",
       "  0.2624931598067284,\n",
       "  0.2495064490020275,\n",
       "  0.23614873268604278,\n",
       "  0.2733240995168686,\n",
       "  0.24503942354917527,\n",
       "  0.2499135725200176,\n",
       "  0.23224229840040206,\n",
       "  0.2350474029779434],\n",
       " 'val_accuracy': [0.79,\n",
       "  0.8382,\n",
       "  0.8532,\n",
       "  0.8662,\n",
       "  0.8696,\n",
       "  0.878,\n",
       "  0.88,\n",
       "  0.887,\n",
       "  0.8868,\n",
       "  0.893,\n",
       "  0.8938,\n",
       "  0.8954,\n",
       "  0.9,\n",
       "  0.9008,\n",
       "  0.908,\n",
       "  0.907,\n",
       "  0.9002,\n",
       "  0.892,\n",
       "  0.9012,\n",
       "  0.8976,\n",
       "  0.9124,\n",
       "  0.8994,\n",
       "  0.9062,\n",
       "  0.9098,\n",
       "  0.9136,\n",
       "  0.9026,\n",
       "  0.909,\n",
       "  0.9104,\n",
       "  0.9152,\n",
       "  0.9108]}"
      ]
     },
     "execution_count": 34,
     "metadata": {},
     "output_type": "execute_result"
    }
   ],
   "source": [
    "# show the training progression \n",
    "model_history.history"
   ]
  },
  {
   "cell_type": "code",
   "execution_count": 43,
   "metadata": {
    "scrolled": true
   },
   "outputs": [
    {
     "data": {
      "image/png": "[encoded data removed]",
      "text/plain": [
       "<Figure size 576x360 with 1 Axes>"
      ]
     },
     "metadata": {
      "needs_background": "light"
     },
     "output_type": "display_data"
    }
   ],
   "source": [
    "# visualise the training progression\n",
    "# after 60 epochs the model is near 100% accuracy\n",
    "pd.DataFrame(model_history.history).plot(figsize=(8,5))\n",
    "plt.grid(True)\n",
    "plt.gca().set_ylim(0,1)\n",
    "plt.show()"
   ]
  },
  {
   "cell_type": "markdown",
   "metadata": {},
   "source": [
    "# Evaluating performance"
   ]
  },
  {
   "cell_type": "code",
   "execution_count": 36,
   "metadata": {},
   "outputs": [
    {
     "name": "stdout",
     "output_type": "stream",
     "text": [
      "10000/10000 [==============================] - 1s 140us/sample - loss: 0.2543 - accuracy: 0.9121\n"
     ]
    },
    {
     "data": {
      "text/plain": [
       "[0.2543268059760332, 0.9121]"
      ]
     },
     "execution_count": 36,
     "metadata": {},
     "output_type": "execute_result"
    }
   ],
   "source": [
    "# 0.318 loss and accuracy of 0.889 \n",
    "model.evaluate(X_test,y_test)"
   ]
  },
  {
   "cell_type": "code",
   "execution_count": 37,
   "metadata": {},
   "outputs": [
    {
     "data": {
      "text/plain": [
       "array([[0., 0., 0., 0., 0., 0., 0., 0., 0., 1.],\n",
       "       [0., 0., 1., 0., 0., 0., 0., 0., 0., 0.],\n",
       "       [0., 1., 0., 0., 0., 0., 0., 0., 0., 0.]], dtype=float32)"
      ]
     },
     "execution_count": 37,
     "metadata": {},
     "output_type": "execute_result"
    }
   ],
   "source": [
    "# making single probability predictions\n",
    "y_proba = model.predict(X_test[:3])\n",
    "y_proba.round(2)"
   ]
  },
  {
   "cell_type": "code",
   "execution_count": 38,
   "metadata": {},
   "outputs": [
    {
     "data": {
      "text/plain": [
       "array([9, 2, 1], dtype=int64)"
      ]
     },
     "execution_count": 38,
     "metadata": {},
     "output_type": "execute_result"
    }
   ],
   "source": [
    "# or we could make class predictions\n",
    "y_pred = model.predict_classes(X_test[:3])\n",
    "y_pred"
   ]
  },
  {
   "cell_type": "code",
   "execution_count": 41,
   "metadata": {},
   "outputs": [
    {
     "name": "stdout",
     "output_type": "stream",
     "text": [
      "Ankle boot\n"
     ]
    },
    {
     "data": {
      "text/plain": [
       "<matplotlib.image.AxesImage at 0x20375271f88>"
      ]
     },
     "execution_count": 41,
     "metadata": {},
     "output_type": "execute_result"
    },
    {
     "data": {
      "image/png": "[encoded data removed]",
      "text/plain": [
       "<Figure size 432x288 with 1 Axes>"
      ]
     },
     "metadata": {
      "needs_background": "light"
     },
     "output_type": "display_data"
    }
   ],
   "source": [
    "print(label_names[y_pred[0]])\n",
    "plt.imshow(X_test[0])"
   ]
  },
  {
   "cell_type": "code",
   "execution_count": 42,
   "metadata": {},
   "outputs": [
    {
     "name": "stdout",
     "output_type": "stream",
     "text": [
      "Pullover\n"
     ]
    },
    {
     "data": {
      "text/plain": [
       "<matplotlib.image.AxesImage at 0x203745d4408>"
      ]
     },
     "execution_count": 42,
     "metadata": {},
     "output_type": "execute_result"
    },
    {
     "data": {
      "image/png": "[encoded data removed]",
      "text/plain": [
       "<Figure size 432x288 with 1 Axes>"
      ]
     },
     "metadata": {
      "needs_background": "light"
     },
     "output_type": "display_data"
    }
   ],
   "source": [
    "print(label_names[y_pred[1]])\n",
    "plt.imshow(X_test[1])"
   ]
  },
  {
   "cell_type": "code",
   "execution_count": 43,
   "metadata": {},
   "outputs": [
    {
     "name": "stdout",
     "output_type": "stream",
     "text": [
      "Trouser\n"
     ]
    },
    {
     "data": {
      "text/plain": [
       "<matplotlib.image.AxesImage at 0x20375668048>"
      ]
     },
     "execution_count": 43,
     "metadata": {},
     "output_type": "execute_result"
    },
    {
     "data": {
      "image/png": "[encoded data removed]",
      "text/plain": [
       "<Figure size 432x288 with 1 Axes>"
      ]
     },
     "metadata": {
      "needs_background": "light"
     },
     "output_type": "display_data"
    }
   ],
   "source": [
    "print(label_names[y_pred[2]])\n",
    "plt.imshow(X_test[2])"
   ]
  },
  {
   "cell_type": "markdown",
   "metadata": {},
   "source": [
    "# Saving and restoring"
   ]
  },
  {
   "cell_type": "code",
   "execution_count": 39,
   "metadata": {},
   "outputs": [],
   "source": [
    "# save model\n",
    "model.save('CNNmodel.h5')"
   ]
  },
  {
   "cell_type": "code",
   "execution_count": 40,
   "metadata": {},
   "outputs": [],
   "source": [
    "# delete model\n",
    "del model\n",
    "keras.backend.clear_session()"
   ]
  },
  {
   "cell_type": "code",
   "execution_count": 41,
   "metadata": {},
   "outputs": [],
   "source": [
    "# load model\n",
    "model = keras.models.load_model('CNNmodel.h5')"
   ]
  },
  {
   "cell_type": "code",
   "execution_count": 57,
   "metadata": {},
   "outputs": [
    {
     "name": "stdout",
     "output_type": "stream",
     "text": [
      "10000/10000 [==============================] - 1s 109us/sample - loss: 0.3183 - accuracy: 0.8889\n"
     ]
    },
    {
     "data": {
      "text/plain": [
       "[0.3182890306711197, 0.8889]"
      ]
     },
     "execution_count": 57,
     "metadata": {},
     "output_type": "execute_result"
    }
   ],
   "source": [
    "# loaded model is the same as the model trained in previous session\n",
    "model.evaluate(X_test,y_test)"
   ]
  }
 ],
 "metadata": {
  "kernelspec": {
   "display_name": "Python 3",
   "language": "python",
   "name": "python3"
  },
  "language_info": {
   "codemirror_mode": {
    "name": "ipython",
    "version": 3
   },
   "file_extension": ".py",
   "mimetype": "text/x-python",
   "name": "python",
   "nbconvert_exporter": "python",
   "pygments_lexer": "ipython3",
   "version": "3.7.4"
  }
 },
 "nbformat": 4,
 "nbformat_minor": 2
}
